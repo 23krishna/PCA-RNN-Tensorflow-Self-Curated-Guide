{
 "cells": [
  {
   "cell_type": "code",
   "execution_count": 3,
   "metadata": {},
   "outputs": [],
   "source": [
    "import tensorflow as tf #importing tensorflow\n",
    "import numpy as np"
   ]
  },
  {
   "cell_type": "code",
   "execution_count": 4,
   "metadata": {},
   "outputs": [
    {
     "data": {
      "text/plain": [
       "array([[18]])"
      ]
     },
     "execution_count": 4,
     "metadata": {},
     "output_type": "execute_result"
    }
   ],
   "source": [
    "#constants\n",
    "a = tf.constant(2) #creating constants \n",
    "b = tf.constant(3) #creating contant 2\n",
    "c = a + b # creating a function to add\n",
    "sess = tf.Session() #creating a session for the operation\n",
    "sess.run(a) #with the .run command we are running the session \n",
    "\n",
    "a1 = tf.constant([[3,3]]) #creating the constant matrix\n",
    "a2 = tf.constant([[3],[3]]) #creating constant matrix 2\n",
    "res = tf.matmul(a1, a2) #performing hte matrix  multiplication \n",
    "sess.run(res) #running the session to get the matrix multiplication"
   ]
  }
 ],
 "metadata": {
  "kernelspec": {
   "display_name": "Python 3",
   "language": "python",
   "name": "python3"
  },
  "language_info": {
   "codemirror_mode": {
    "name": "ipython",
    "version": 3
   },
   "file_extension": ".py",
   "mimetype": "text/x-python",
   "name": "python",
   "nbconvert_exporter": "python",
   "pygments_lexer": "ipython3",
   "version": "3.7.5"
  }
 },
 "nbformat": 4,
 "nbformat_minor": 2
}
